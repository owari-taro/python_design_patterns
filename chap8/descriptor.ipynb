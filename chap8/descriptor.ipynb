{
 "cells": [
  {
   "cell_type": "code",
   "execution_count": 4,
   "id": "7e3df8c3-c5ee-4ba7-82e8-bb5281100bc9",
   "metadata": {},
   "outputs": [
    {
     "name": "stdout",
     "output_type": "stream",
     "text": [
      "\n",
      "#########################################\n",
      "__get__ is being called\n",
      "DescriptorClass \n",
      "<__main__.ClientClass object at 0x0000012B4A97A5B0>\n",
      "<class '__main__.ClientClass'>\n",
      "###################################################\n",
      "\n"
     ]
    },
    {
     "data": {
      "text/plain": [
       "<__main__.ClientClass at 0x12b4a97a5b0>"
      ]
     },
     "execution_count": 4,
     "metadata": {},
     "output_type": "execute_result"
    }
   ],
   "source": [
    "#the code below illustrate how descriptor funcion as a class field of client class\n",
    "class DescriptorClass:\n",
    "    def __get__(self, instance, owner):\n",
    "        if instance is None:\n",
    "            return self\n",
    "        print(\"\\n#########################################\")\n",
    "        print(\"__get__ is being called\")\n",
    "        print(f\"{self.__class__.__name__} \\n{instance}\\n{owner}\")\n",
    "        print(\"###################################################\\n\")\n",
    "        return instance\n",
    "\n",
    "class ClientClass:\n",
    "    descriptor=DescriptorClass()\n",
    "    \n",
    "    \n",
    "client=ClientClass()\n",
    "\n",
    "client.descriptor"
   ]
  },
  {
   "cell_type": "code",
   "execution_count": 7,
   "id": "57ff471c-5fc5-49fc-918b-85c66ff51467",
   "metadata": {},
   "outputs": [
    {
     "name": "stdout",
     "output_type": "stream",
     "text": [
      "DescriptorClass.ClientClass\n",
      "value for <__main__.ClientClass object at 0x0000012B4A8C86A0>\n"
     ]
    }
   ],
   "source": [
    "#this example examplains the difference a descriptor being called from class or instancce\n",
    "class DescriptorClass:\n",
    "    def __get__(self, instance, owner):\n",
    "        if instance is None:\n",
    "            return f\"{self.__class__.__name__}.{owner.__name__}\"\n",
    "        return f\"value for {instance}\"\n",
    "    \n",
    "class ClientClass:\n",
    "    descriptor=DescriptorClass()\n",
    "    \n",
    "print(ClientClass.descriptor)\n",
    "client=ClientClass()\n",
    "print(client.descriptor)\n",
    "\n",
    "\n"
   ]
  },
  {
   "cell_type": "code",
   "execution_count": 3,
   "id": "52441fff-5765-4cc3-9c02-5d2fbf6435fc",
   "metadata": {},
   "outputs": [
    {
     "name": "stdout",
     "output_type": "stream",
     "text": [
      "__set__name was called\n",
      "owner=<class '__main__.Book'>,name='title'\n",
      "get was callled\n"
     ]
    },
    {
     "ename": "KeyError",
     "evalue": "'title'",
     "output_type": "error",
     "traceback": [
      "\u001b[1;31m---------------------------------------------------------------------------\u001b[0m",
      "\u001b[1;31mKeyError\u001b[0m                                  Traceback (most recent call last)",
      "\u001b[1;32m<ipython-input-3-ec2fe19ca724>\u001b[0m in \u001b[0;36m<module>\u001b[1;34m\u001b[0m\n\u001b[0;32m     21\u001b[0m \u001b[1;33m\u001b[0m\u001b[0m\n\u001b[0;32m     22\u001b[0m \u001b[0mbook\u001b[0m \u001b[1;33m=\u001b[0m \u001b[0mBook\u001b[0m\u001b[1;33m(\u001b[0m\u001b[1;33m)\u001b[0m\u001b[1;33m\u001b[0m\u001b[1;33m\u001b[0m\u001b[0m\n\u001b[1;32m---> 23\u001b[1;33m \u001b[0mbook\u001b[0m\u001b[1;33m.\u001b[0m\u001b[0mtitle\u001b[0m\u001b[1;33m\u001b[0m\u001b[1;33m\u001b[0m\u001b[0m\n\u001b[0m",
      "\u001b[1;32m<ipython-input-3-ec2fe19ca724>\u001b[0m in \u001b[0;36m__get__\u001b[1;34m(self, instance, owner)\u001b[0m\n\u001b[0;32m     13\u001b[0m     \u001b[1;32mdef\u001b[0m \u001b[0m__get__\u001b[0m\u001b[1;33m(\u001b[0m\u001b[0mself\u001b[0m\u001b[1;33m,\u001b[0m \u001b[0minstance\u001b[0m\u001b[1;33m,\u001b[0m \u001b[0mowner\u001b[0m\u001b[1;33m)\u001b[0m\u001b[1;33m:\u001b[0m\u001b[1;33m\u001b[0m\u001b[1;33m\u001b[0m\u001b[0m\n\u001b[0;32m     14\u001b[0m         \u001b[0mprint\u001b[0m\u001b[1;33m(\u001b[0m\u001b[1;34m\"get was callled\"\u001b[0m\u001b[1;33m)\u001b[0m\u001b[1;33m\u001b[0m\u001b[1;33m\u001b[0m\u001b[0m\n\u001b[1;32m---> 15\u001b[1;33m         \u001b[1;32mreturn\u001b[0m \u001b[0minstance\u001b[0m\u001b[1;33m.\u001b[0m\u001b[0m__dict__\u001b[0m\u001b[1;33m[\u001b[0m\u001b[0mself\u001b[0m\u001b[1;33m.\u001b[0m\u001b[0mname\u001b[0m\u001b[1;33m]\u001b[0m\u001b[1;33m\u001b[0m\u001b[1;33m\u001b[0m\u001b[0m\n\u001b[0m\u001b[0;32m     16\u001b[0m \u001b[1;33m\u001b[0m\u001b[0m\n\u001b[0;32m     17\u001b[0m \u001b[1;33m\u001b[0m\u001b[0m\n",
      "\u001b[1;31mKeyError\u001b[0m: 'title'"
     ]
    }
   ],
   "source": [
    "\n",
    "class TextField:\n",
    "    def __set_name__(self, owner, name):\n",
    "        print(\"__set__name was called\")\n",
    "        print(f\"{owner=},{name=}\")\n",
    "        self.name = name\n",
    "\n",
    "    def __set__(self, instance, value):\n",
    "        print(\"__set__ was called!!\")\n",
    "        if not isinstance(value, str):\n",
    "            raise AttributeError(\"must be str\")\n",
    "        instance.__dict__[self.name] = value\n",
    "\n",
    "    def __get__(self, instance, owner):\n",
    "        print(\"get was callled\")\n",
    "        return instance.__dict__[self.name]\n",
    "\n",
    "\n",
    "class Book:\n",
    "    title = TextField()\n",
    "\n",
    "\n",
    "book = Book()\n",
    "book.title"
   ]
  },
  {
   "cell_type": "code",
   "execution_count": 5,
   "id": "25cd883d-d7dd-4362-9830-1b0bf2ef5da1",
   "metadata": {},
   "outputs": [
    {
     "name": "stdout",
     "output_type": "stream",
     "text": [
      "__set__ was called!!\n"
     ]
    }
   ],
   "source": [
    "book.title=\"python for ml learning\""
   ]
  },
  {
   "cell_type": "code",
   "execution_count": 17,
   "id": "89afbd37-f497-4fc4-9cbf-9c1aad8e6ba9",
   "metadata": {},
   "outputs": [
    {
     "name": "stdout",
     "output_type": "stream",
     "text": [
      "set_name was called!!\n",
      "owner=<class '__main__.ClientClass'>,name='descriptor'\n"
     ]
    }
   ],
   "source": [
    "from typing import Callable, Any\n",
    "\n",
    "\n",
    "class Validation:\n",
    "    def __init__(self, validation_function: Callable[[Any], bool], error_msg: str):\n",
    "        self.validation_function = validation_function\n",
    "        self.error_msg = error_msg\n",
    "\n",
    "    def __call__(self, value):\n",
    "        \"\"\"\n",
    "        raise error when any of validation_functions fail\n",
    "\n",
    "        Parameters\n",
    "        ----------\n",
    "        value : [type]\n",
    "            [description]\n",
    "\n",
    "        Raises\n",
    "        ------\n",
    "        ValueError\n",
    "            [description]\n",
    "        \"\"\"\n",
    "        if not self.validation_function(value):\n",
    "            raise ValueError(f\"{value!r} {self.error_msg}\")\n",
    "\n",
    "\n",
    "class Field:\n",
    "    def __init__(self, *validations):\n",
    "        self._name = None\n",
    "        self.validations = validations\n",
    "\n",
    "    def __set_name__(self, owner, name):\n",
    "        print(\"set_name was called!!\")\n",
    "        print(f\"{owner=},{name=}\")\n",
    "        self._name = name\n",
    "\n",
    "    def __get__(self, instance, owner):\n",
    "        print(\"\\n__get__ is called\\n\")\n",
    "        if instance is None:\n",
    "            return self\n",
    "        return instance.__dict__[self._name]\n",
    "\n",
    "    def validate(self, value):\n",
    "        for validation in self.validations:\n",
    "            validation(value)\n",
    "\n",
    "    def __set__(self, instance, value):\n",
    "        print(\"__set__ was called\")\n",
    "        print(f\"{instance=} ,{value=}\")\n",
    "        self.validate(value)\n",
    "        instance.__dict__[self._name] = value\n",
    "\n",
    "\n",
    "class ClientClass:\n",
    "    descriptor = Field(Validation(lambda x: isinstance(x, (int, float)), \"is not a number\"),\n",
    "                       Validation(lambda x: x >= 0, \"is not >=0\"))\n",
    "\n",
    "a=ClientClass()\n"
   ]
  },
  {
   "cell_type": "code",
   "execution_count": 19,
   "id": "4d623093-ffe9-4abb-8ffc-1bbd8914b6bd",
   "metadata": {},
   "outputs": [
    {
     "name": "stdout",
     "output_type": "stream",
     "text": [
      "__set__ was called\n",
      "instance=<__main__.ClientClass object at 0x00000171536E0F70> ,value=123\n",
      "\n",
      "__get__ is called\n",
      "\n",
      "<class 'int'>\n"
     ]
    }
   ],
   "source": [
    "a.descriptor=123\n",
    "print(type(a.descriptor))"
   ]
  },
  {
   "cell_type": "code",
   "execution_count": 23,
   "id": "c111dffb-bb35-40a0-a1d7-f26e0db0ae29",
   "metadata": {},
   "outputs": [
    {
     "name": "stdout",
     "output_type": "stream",
     "text": [
      "__set_name is being called\n"
     ]
    }
   ],
   "source": [
    "from enum import Enum\n",
    "\n",
    "Permission = Enum(\"Permission\", \"admin email helpdesk\")\n",
    "\n",
    "\n",
    "class ProtectedAttribute:\n",
    "    def __init__(self, requires_role: Permission = None):\n",
    "        self.permission_required = requires_role\n",
    "        self._name = None\n",
    "\n",
    "    def __set__(self, instance, value):\n",
    "        if value is None:\n",
    "            raise ValueError(f\"{self._name} cant be set to None\")\n",
    "        instance.__dict__[self._name] = value\n",
    "\n",
    "    def __set_name__(self, owner, name):\n",
    "        print(\"__set_name is being called\")\n",
    "        self._name = name\n",
    "\n",
    "    def __delete__(self, instance):\n",
    "        if self.permission_required in instance.permissions:\n",
    "            instance.__dict__[self._name] = None\n",
    "        else:\n",
    "            raise ValueError(\n",
    "                f\"User {user!s} doesnt have {self.permission_required}\")\n",
    "\n",
    "\n",
    "class User:\n",
    "    email = ProtectedAttribute(requires_role=Permission.admin)\n",
    "\n",
    "    def __init__(self, username: str, email: str, permission_list: list = None):\n",
    "        self.username = username\n",
    "        self.email = email\n",
    "        self.permissions = permission_list or []\n",
    "\n",
    "    def __str__(self):\n",
    "        return self.username\n"
   ]
  },
  {
   "cell_type": "code",
   "execution_count": 25,
   "id": "e6bb2b87-d724-4c27-81b7-1796539ffb51",
   "metadata": {},
   "outputs": [
    {
     "name": "stdout",
     "output_type": "stream",
     "text": [
      "__set_name is being called\n",
      "__delete__ is being called!\n"
     ]
    }
   ],
   "source": [
    "from enum import Enum\n",
    "\n",
    "Permission = Enum(\"Permission\", \"admin user\")\n",
    "\n",
    "\n",
    "class ProtectedAttribute:\n",
    "    def __init__(self, requires_role: Permission = None):\n",
    "        self.permission_required = requires_role\n",
    "        self._name = None\n",
    "\n",
    "    def __set__(self, instance, value):\n",
    "        if value is None:\n",
    "            raise ValueError(f\"{self._name} cant be set to None\")\n",
    "        instance.__dict__[self._name] = value\n",
    "\n",
    "    def __set_name__(self, owner, name):\n",
    "        print(\"__set_name is being called\")\n",
    "        self._name = name\n",
    "\n",
    "    def __delete__(self, instance):\n",
    "        print(\"__delete__ is being called!\")\n",
    "        if self.permission_required in instance.permissions:\n",
    "            instance.__dict__[self._name] = None\n",
    "        else:\n",
    "            raise ValueError(\n",
    "                f\"User {instance!s} doesnt have {self.permission_required}\")\n",
    "\n",
    "\n",
    "class User:\n",
    "    email = ProtectedAttribute(requires_role=Permission.admin)\n",
    "\n",
    "    def __init__(self, username: str, email: str, permission_list: list = None):\n",
    "        self.username = username\n",
    "        self.email = email\n",
    "        self.permissions = permission_list or []\n",
    "\n",
    "    def __str__(self):\n",
    "        return self.username\n",
    "\n",
    "    \n",
    "admin=User(\"root\",\"root@gmail.com\",[Permission.admin])\n",
    "del admin.email\n"
   ]
  },
  {
   "cell_type": "code",
   "execution_count": 32,
   "id": "8d806d55-0daa-47a6-bc29-016318d398f5",
   "metadata": {},
   "outputs": [
    {
     "name": "stdout",
     "output_type": "stream",
     "text": [
      "get is being called\n",
      "instance=<__main__.ClientClass object at 0x00000171537C00A0>\n",
      "owner=<class '__main__.ClientClass'>\n",
      "42\n",
      "vars(client)={}\n",
      "vars(client)={'descriptor': 123}\n",
      "123\n"
     ]
    }
   ],
   "source": [
    "class NonDataDescriptor:\n",
    "    def __get__(self,instance,owner):\n",
    "        print(\"get is being called\")\n",
    "        print(f\"{instance=}\\n{owner=}\")\n",
    "        if instance is None:\n",
    "            return self\n",
    "        return 42\n",
    "\n",
    "class ClientClass:\n",
    "    descriptor=NonDataDescriptor()\n",
    "    \n",
    "client=ClientClass()\n",
    "\n",
    "print(client.descriptor)\n",
    "print(f\"{vars(client)=}\")\n",
    "client.descriptor=123\n",
    "print(f\"{vars(client)=}\")\n",
    "print(client.descriptor)"
   ]
  },
  {
   "cell_type": "code",
   "execution_count": 38,
   "id": "b7fbe38b-55df-4d15-9d90-4e756cce6236",
   "metadata": {},
   "outputs": [
    {
     "name": "stdout",
     "output_type": "stream",
     "text": [
      "_set_name is being called\n",
      "__set__ is being called!!\n",
      "__get is being called\n",
      "tokyo\n",
      "{'name': 'Hoge', 'cities_visited': ['tokyo'], 'current_city': 'tokyo'}\n",
      "__set__ is being called!!\n"
     ]
    },
    {
     "data": {
      "text/plain": [
       "['tokyo', 'osaka']"
      ]
     },
     "execution_count": 38,
     "metadata": {},
     "output_type": "execute_result"
    }
   ],
   "source": [
    "#save the history of the current city attribute in the list\n",
    "#with descriptor ,codes below looks complicated,and actully it is.\n",
    "#So it is suted for large API or libraries,not for simple scripts for boaring tasks!!\n",
    "from typing import ValuesView\n",
    "\n",
    "\n",
    "class HistoryTracedAttribute:\n",
    "    def __init__(self, trace_attribute_name: str):\n",
    "        self.trace_attribute_name = trace_attribute_name\n",
    "        self._name = None\n",
    "\n",
    "    def __set_name__(self, owner, name):\n",
    "        print(\"_set_name is being called\")\n",
    "        self._name = name\n",
    "\n",
    "    def __set__(self, instance, value):\n",
    "        print(\"__set__ is being called!!\")\n",
    "        self._track_change_in_value_for(instance, value)\n",
    "        instance.__dict__[self._name] = value\n",
    "\n",
    "    def __get__(self, instance, owner):\n",
    "        print(\"__get is being called\")\n",
    "        if instance is None:\n",
    "            return self\n",
    "        return instance.__dict__[self._name]\n",
    "\n",
    "    def _track_change_in_value_for(self, instance, value):\n",
    "        self._set_default(instance)\n",
    "        if self._needs_to_track_change(instance, value):\n",
    "            instance.__dict__[self.trace_attribute_name].append(value)\n",
    "\n",
    "    def _needs_to_track_change(self, instance, value) -> bool:\n",
    "        try:\n",
    "            current_value = instance.__dict__[self._name]\n",
    "        except KeyError:\n",
    "            return True\n",
    "        return value != current_value\n",
    "\n",
    "    def _set_default(self, instance):\n",
    "        instance.__dict__.setdefault(self.trace_attribute_name, [])\n",
    "\n",
    "\n",
    "class Traveler:\n",
    "    current_city = HistoryTracedAttribute(\"cities_visited\")\n",
    "\n",
    "    def __init__(self, name: str, current_city: str):\n",
    "        self.name = name\n",
    "        self.current_city = current_city\n",
    "\n",
    "        \n",
    "        \n",
    "        \n",
    "traveler=Traveler(\"Hoge\",\"tokyo\")\n",
    "print(traveler.current_city)\n",
    "print(vars(traveler))\n",
    "traveler.current_city=\"osaka\"\n",
    "\n",
    "traveler.__dict__[\"cities_visited\"]"
   ]
  }
 ],
 "metadata": {
  "kernelspec": {
   "display_name": "Python 3",
   "language": "python",
   "name": "python3"
  },
  "language_info": {
   "codemirror_mode": {
    "name": "ipython",
    "version": 3
   },
   "file_extension": ".py",
   "mimetype": "text/x-python",
   "name": "python",
   "nbconvert_exporter": "python",
   "pygments_lexer": "ipython3",
   "version": "3.9.1"
  }
 },
 "nbformat": 4,
 "nbformat_minor": 5
}
